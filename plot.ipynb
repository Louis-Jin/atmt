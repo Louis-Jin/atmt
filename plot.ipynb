{
 "cells": [
  {
   "cell_type": "markdown",
   "metadata": {},
   "source": [
    "## 1. Plot Performance"
   ]
  },
  {
   "cell_type": "code",
   "execution_count": 90,
   "metadata": {},
   "outputs": [
    {
     "data": {
      "image/png": "[encoded data removed]",
      "text/plain": [
       "<Figure size 432x288 with 1 Axes>"
      ]
     },
     "metadata": {
      "needs_background": "light"
     },
     "output_type": "display_data"
    }
   ],
   "source": [
    "import matplotlib.pyplot as plt\n",
    "import numpy as np\n",
    "\n",
    "data = [[ 16.4, 32.5, 100, 0.25,  0.5,  0.5, 0.25],\n",
    "        [ 14.3, 28.8, 100, 0.25, 0.25, 0.25, 0.25],\n",
    "        [ 14.1, 29.6, 100, 0.25,  0.5,  0.5, 0.25],\n",
    "        [ 14.3, 29.6,   1, 0.25, 0.25, 0.25, 0.25]]\n",
    "\n",
    "data = np.transpose(data)\n",
    "odata = data.copy()\n",
    "data[1,:] = data[1,:]-data[0,:]\n",
    "columns = ('model_01', 'model_02', 'model_03', 'baseline')\n",
    "rows = ['test', 'train', 'batch_size', 'encoder_in', 'encoder_out', 'decoder_in', 'decoder_out']\n",
    "\n",
    "values = np.arange(0, 35, 5)\n",
    "value_increment = 1\n",
    "\n",
    "# Get some pastel shades for the colors\n",
    "n_rows = len(rows)\n",
    "colors = plt.cm.BuPu(np.linspace(0, 0.7, n_rows))\n",
    "colors[0:5] = 0\n",
    "\n",
    "index = np.arange(len(columns)) + 0.3\n",
    "bar_width = 0.4\n",
    "\n",
    "# Initialize the vertical-offset for the stacked bar chart.\n",
    "y_offset = np.zeros(len(columns))\n",
    "\n",
    "# Plot bars and create text labels for the table\n",
    "cell_text = []\n",
    "for row in range(n_rows):\n",
    "    cell_text.append(['%1.3f' % (x ) for x in odata[n_rows-row-1,:]])\n",
    "    if(row < 2):\n",
    "        plt.bar(index, data[row], bar_width, bottom=y_offset, color=colors[n_rows-row-1])\n",
    "        y_offset = y_offset + data[row]\n",
    "    \n",
    "# Reverse colors and text labels to display the last value at the top.\n",
    "colors = colors[::-1]\n",
    "cell_text.reverse()\n",
    "\n",
    "# Add a table at the bottom of the axes\n",
    "the_table = plt.table(cellText=cell_text,\n",
    "                      rowLabels=rows,\n",
    "                      rowColours=colors,\n",
    "                      colLabels=columns,\n",
    "                      loc='bottom')\n",
    "\n",
    "# Adjust layout to make room for the table:\n",
    "plt.subplots_adjust(left=0.2, bottom=0.2)\n",
    "\n",
    "plt.yticks(values * value_increment, ['%1.3f' % val for val in values])\n",
    "plt.xticks([])\n",
    "plt.title('Features(src_out) Variance')\n",
    "\n",
    "plt.show()"
   ]
  },
  {
   "cell_type": "markdown",
   "metadata": {},
   "source": [
    "## 2. Checking Variance of features obtained from encoder"
   ]
  },
  {
   "cell_type": "code",
   "execution_count": 39,
   "metadata": {},
   "outputs": [
    {
     "name": "stdout",
     "output_type": "stream",
     "text": [
      "tr_1\t:0.17169855535030365\n",
      "tr_2\t:0.33769646286964417\n",
      "tr_3\t:0.27250614762306213\n",
      "test_1\t:0.05329844728112221\n",
      "test_2\t:0.11175413429737091\n",
      "test_3\t:0.08644938468933105\n",
      "[[0.17169856 0.33769646 0.27250615]\n",
      " [0.05329845 0.11175413 0.08644938]]\n"
     ]
    }
   ],
   "source": [
    "import numpy as np\n",
    "\n",
    "feature_path = ['features_tr_01.npy', 'features_tr_02.npy', 'features_tr_03.npy', 'features_test_01.npy', 'features_test_02.npy', 'features_test_03.npy']\n",
    "labels = ['tr_1', 'tr_2', 'tr_3', 'test_1', 'test_2', 'test_3']\n",
    "# calculate var\n",
    "variances = []\n",
    "for i in range(0,len(feature_path)):\n",
    "    features = np.load(feature_path[i], allow_pickle=True)\n",
    "    for num,j in enumerate(features):\n",
    "        feature = np.reshape(j, (-1, 128))\n",
    "        if num == 0:\n",
    "            word_features = feature\n",
    "        else:\n",
    "            word_features = np.concatenate((word_features, feature), axis=0)\n",
    "    variance = np.var(word_features)\n",
    "    variances.append(variance)\n",
    "    print('{}\\t:{}'.format(labels[i], variance))\n",
    "variances = np.reshape(np.array(variances),(2,3))\n",
    "print(variances)"
   ]
  },
  {
   "cell_type": "code",
   "execution_count": 86,
   "metadata": {},
   "outputs": [
    {
     "name": "stdout",
     "output_type": "stream",
     "text": [
      "[0.69928489 0.79278739 0.88387543 1.        ]\n",
      "[0. 0. 0.]\n",
      "[0.17169856 0.33769646 0.27250615]\n",
      "[0.54901961 0.58559016 0.77517878 1.        ]\n",
      "[0.17169856 0.33769646 0.27250615]\n",
      "[-0.11840011 -0.22594233 -0.18605676]\n"
     ]
    },
    {
     "data": {
      "image/png": "[encoded data removed]",
      "text/plain": [
       "<Figure size 432x288 with 1 Axes>"
      ]
     },
     "metadata": {
      "needs_background": "light"
     },
     "output_type": "display_data"
    }
   ],
   "source": [
    "# adapted from Table Demo of matplotlib\n",
    "\n",
    "import matplotlib.pyplot as plt\n",
    "\n",
    "\n",
    "data = variances.copy()\n",
    "data[1,:] = data[1,:]-data[0,:]\n",
    "columns = ('model_01', 'model_02', 'model_03')\n",
    "rows = ['test', 'train']\n",
    "\n",
    "values = np.arange(0, 0.5, 0.1)\n",
    "value_increment = 1\n",
    "\n",
    "# Get some pastel shades for the colors\n",
    "colors = plt.cm.BuPu(np.linspace(0.3, 0.5, len(rows)))\n",
    "n_rows = len(data)\n",
    "\n",
    "index = np.arange(len(columns)) + 0.3\n",
    "bar_width = 0.4\n",
    "\n",
    "# Initialize the vertical-offset for the stacked bar chart.\n",
    "y_offset = np.zeros(len(columns))\n",
    "\n",
    "# Plot bars and create text labels for the table\n",
    "cell_text = []\n",
    "for row in range(n_rows):\n",
    "    print(colors[row])\n",
    "    print(y_offset)\n",
    "    print(data[row])\n",
    "\n",
    "    plt.bar(index, data[row], bar_width, bottom=y_offset, color=colors[n_rows-row-1])\n",
    "    y_offset = y_offset + data[row]\n",
    "    cell_text.append(['%1.3f' % (x ) for x in variances[n_rows-row-1,:]])\n",
    "# Reverse colors and text labels to display the last value at the top.\n",
    "colors = colors[::-1]\n",
    "cell_text.reverse()\n",
    "\n",
    "# Add a table at the bottom of the axes\n",
    "the_table = plt.table(cellText=cell_text,\n",
    "                      rowLabels=rows,\n",
    "                      rowColours=colors,\n",
    "                      colLabels=columns,\n",
    "                      loc='bottom')\n",
    "\n",
    "# Adjust layout to make room for the table:\n",
    "plt.subplots_adjust(left=0.2, bottom=0.2)\n",
    "\n",
    "plt.yticks(values * value_increment, ['%1.3f' % val for val in values])\n",
    "plt.xticks([])\n",
    "plt.title('Features(src_out) Variance')\n",
    "\n",
    "plt.show()"
   ]
  },
  {
   "cell_type": "markdown",
   "metadata": {},
   "source": [
    "## 3. Checking if same sentence saying in different languages have same meaning as wanted"
   ]
  },
  {
   "cell_type": "code",
   "execution_count": 53,
   "metadata": {},
   "outputs": [
    {
     "name": "stdout",
     "output_type": "stream",
     "text": [
      "d_tr: 5.423969745635986\n",
      "d_rev_tr: 3.1224701404571533\n"
     ]
    }
   ],
   "source": [
    "# here d is the numerator in function calculate_diff\n",
    "ds_path = ['d_tr.npy', 'd_rev_tr.npy']\n",
    "labels = ['d_tr', 'd_rev_tr']\n",
    "# calculate var\n",
    "avgs = []\n",
    "for i in range(0,len(ds_path)):\n",
    "    ds = np.load(ds_path[i], allow_pickle=True)\n",
    "    for num,j in enumerate(ds):\n",
    "        d = np.reshape(j, (-1, 1))\n",
    "        if num == 0:\n",
    "            sentence_ds = d\n",
    "        else:\n",
    "            sentence_ds = np.concatenate((sentence_ds, d), axis=0)\n",
    "    avg = np.average(sentence_ds)\n",
    "    avgs.append(avg)\n",
    "    print('{}: {}'.format(labels[i], avg))\n"
   ]
  },
  {
   "cell_type": "code",
   "execution_count": null,
   "metadata": {},
   "outputs": [],
   "source": []
  }
 ],
 "metadata": {
  "kernelspec": {
   "display_name": "Python 3",
   "language": "python",
   "name": "python3"
  },
  "language_info": {
   "codemirror_mode": {
    "name": "ipython",
    "version": 3
   },
   "file_extension": ".py",
   "mimetype": "text/x-python",
   "name": "python",
   "nbconvert_exporter": "python",
   "pygments_lexer": "ipython3",
   "version": "3.6.9"
  }
 },
 "nbformat": 4,
 "nbformat_minor": 2
}
